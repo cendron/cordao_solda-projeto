{
 "cells": [
  {
   "attachments": {},
   "cell_type": "markdown",
   "metadata": {},
   "source": [
    "# Importando as biblitecas necessárias. \n",
    "\n",
    "O Pandas é uma bibliotecas python para manipulação de grande quantidade de dados. \n",
    "\n",
    "O Matplotlib é a biblioteca para exibir gráficos, o seaborn é um complemento para deixar os gráficos mais apresentáveis. "
   ]
  },
  {
   "cell_type": "code",
   "execution_count": 9,
   "metadata": {},
   "outputs": [],
   "source": [
    "import pandas as pd\n",
    "import matplotlib.pyplot as plt\n",
    "import seaborn as sns\n",
    "\n",
    "sns.set(style='darkgrid')"
   ]
  },
  {
   "attachments": {},
   "cell_type": "markdown",
   "metadata": {},
   "source": [
    "Lendo o arquivo e imprimindo o cabeçalho do dataframe:"
   ]
  },
  {
   "cell_type": "code",
   "execution_count": 3,
   "metadata": {},
   "outputs": [
    {
     "data": {
      "text/html": [
       "<div>\n",
       "<style scoped>\n",
       "    .dataframe tbody tr th:only-of-type {\n",
       "        vertical-align: middle;\n",
       "    }\n",
       "\n",
       "    .dataframe tbody tr th {\n",
       "        vertical-align: top;\n",
       "    }\n",
       "\n",
       "    .dataframe thead th {\n",
       "        text-align: right;\n",
       "    }\n",
       "</style>\n",
       "<table border=\"1\" class=\"dataframe\">\n",
       "  <thead>\n",
       "    <tr style=\"text-align: right;\">\n",
       "      <th></th>\n",
       "      <th>Tempo (s)</th>\n",
       "      <th>Tensão (V)</th>\n",
       "      <th>Corrente (A)</th>\n",
       "    </tr>\n",
       "  </thead>\n",
       "  <tbody>\n",
       "    <tr>\n",
       "      <th>0</th>\n",
       "      <td>0.0000</td>\n",
       "      <td>18.89</td>\n",
       "      <td>48.09</td>\n",
       "    </tr>\n",
       "    <tr>\n",
       "      <th>1</th>\n",
       "      <td>0.0002</td>\n",
       "      <td>18.70</td>\n",
       "      <td>46.91</td>\n",
       "    </tr>\n",
       "    <tr>\n",
       "      <th>2</th>\n",
       "      <td>0.0004</td>\n",
       "      <td>18.70</td>\n",
       "      <td>48.07</td>\n",
       "    </tr>\n",
       "    <tr>\n",
       "      <th>3</th>\n",
       "      <td>0.0006</td>\n",
       "      <td>18.70</td>\n",
       "      <td>46.89</td>\n",
       "    </tr>\n",
       "    <tr>\n",
       "      <th>4</th>\n",
       "      <td>0.0008</td>\n",
       "      <td>18.70</td>\n",
       "      <td>48.05</td>\n",
       "    </tr>\n",
       "    <tr>\n",
       "      <th>5</th>\n",
       "      <td>0.0010</td>\n",
       "      <td>18.70</td>\n",
       "      <td>48.07</td>\n",
       "    </tr>\n",
       "    <tr>\n",
       "      <th>6</th>\n",
       "      <td>0.0012</td>\n",
       "      <td>18.70</td>\n",
       "      <td>46.89</td>\n",
       "    </tr>\n",
       "    <tr>\n",
       "      <th>7</th>\n",
       "      <td>0.0014</td>\n",
       "      <td>18.70</td>\n",
       "      <td>46.89</td>\n",
       "    </tr>\n",
       "    <tr>\n",
       "      <th>8</th>\n",
       "      <td>0.0016</td>\n",
       "      <td>18.50</td>\n",
       "      <td>46.87</td>\n",
       "    </tr>\n",
       "    <tr>\n",
       "      <th>9</th>\n",
       "      <td>0.0018</td>\n",
       "      <td>18.50</td>\n",
       "      <td>46.89</td>\n",
       "    </tr>\n",
       "  </tbody>\n",
       "</table>\n",
       "</div>"
      ],
      "text/plain": [
       "   Tempo (s)  Tensão (V)  Corrente (A)\n",
       "0     0.0000       18.89         48.09\n",
       "1     0.0002       18.70         46.91\n",
       "2     0.0004       18.70         48.07\n",
       "3     0.0006       18.70         46.89\n",
       "4     0.0008       18.70         48.05\n",
       "5     0.0010       18.70         48.07\n",
       "6     0.0012       18.70         46.89\n",
       "7     0.0014       18.70         46.89\n",
       "8     0.0016       18.50         46.87\n",
       "9     0.0018       18.50         46.89"
      ]
     },
     "execution_count": 3,
     "metadata": {},
     "output_type": "execute_result"
    }
   ],
   "source": [
    "df = pd.read_csv('Cordão_1.csv', sep=';', decimal=',')\n",
    "\n",
    "df.head(10)"
   ]
  },
  {
   "attachments": {},
   "cell_type": "markdown",
   "metadata": {},
   "source": [
    "Analisando o sinal, percebi que o começo tem uma quantidade diferente de dados em relação, por isso, precisei cortar os dados iniciais:\n"
   ]
  },
  {
   "cell_type": "code",
   "execution_count": 5,
   "metadata": {},
   "outputs": [],
   "source": [
    "df = df[19:]"
   ]
  },
  {
   "attachments": {},
   "cell_type": "markdown",
   "metadata": {},
   "source": [
    "Para verificar o sinal, vamos gerar um gráfico. \n",
    "\n",
    "Os valores dentro das variáveis ```quant_min``` e  ```quant_max``` será utéis para determinar o limite de exibição:"
   ]
  },
  {
   "cell_type": "code",
   "execution_count": 10,
   "metadata": {},
   "outputs": [
    {
     "name": "stdout",
     "output_type": "stream",
     "text": [
      "Tamanho da janela: 45\n"
     ]
    },
    {
     "data": {
      "text/plain": [
       "<matplotlib.legend.Legend at 0x13f382a10>"
      ]
     },
     "execution_count": 10,
     "metadata": {},
     "output_type": "execute_result"
    },
    {
     "data": {
      "image/png": "[encoded data removed]",
      "text/plain": [
       "<Figure size 640x480 with 2 Axes>"
      ]
     },
     "metadata": {},
     "output_type": "display_data"
    }
   ],
   "source": [
    "onda_analisada = 10 # Usei para mostrar a 10ª onda\n",
    "tamanho_janela = 45\n",
    "\n",
    "quant_min = tamanho_janela * onda_analisada\n",
    "quant_max = quant_min + tamanho_janela\n",
    "print(f'Tamanho da janela: {quant_max - quant_min}')\n",
    "\n",
    "fig, ax1 = plt.subplots()\n",
    "\n",
    "df[quant_min:quant_max].plot.line(x='Tempo (s)', y = 'Tensão (V)', ax = ax1, color='blue')\n",
    "ax1.set_xlabel('Tempo (s)')\n",
    "ax1.set_ylabel('Tensão (V)', color = 'blue')\n",
    "ax1.legend(loc='upper right')\n",
    "\n",
    "# Cria um segundo eixo:\n",
    "ax2 = ax1.twinx()\n",
    "df[quant_min:quant_max].plot.line(x='Tempo (s)', y = 'Corrente (A)', ax = ax2, color='red')\n",
    "ax1.set_xlabel('Tempo (s)')\n",
    "ax1.set_ylabel('Corrente (A)', color = 'red')\n",
    "\n",
    "# adjust the legend position:\n",
    "ax2.legend(loc='upper left')"
   ]
  },
  {
   "attachments": {},
   "cell_type": "markdown",
   "metadata": {},
   "source": [
    "Para achar o valor máximo de cada onde vamos precisar a \"rolar\" os dados, para isso tem a variável ```tamanho_janela``` que deverá ser ajustada para que não ocorra sinal duplicado ou sem sinal em cada janela.\n",
    "\n",
    "Esse valor eu chutei analisando o gráfico anterior, e verificando os valores limites. \n",
    "\n",
    "**Mesmo assim, será necessário analisar com mais calma as ondas e verificar esse valor limite**"
   ]
  },
  {
   "cell_type": "code",
   "execution_count": 97,
   "metadata": {},
   "outputs": [],
   "source": [
    "df['Tensão_max'] = df['Tensão (V)'].rolling(tamanho_janela).max()\n",
    "df['Corrente_max'] = df['Corrente (A)'].rolling(tamanho_janela).max()"
   ]
  },
  {
   "cell_type": "code",
   "execution_count": 102,
   "metadata": {},
   "outputs": [
    {
     "name": "stdout",
     "output_type": "stream",
     "text": [
      "Tensão máxima média = 32.21 V\n",
      "Corrente máxima média = 434.89 A\n"
     ]
    }
   ],
   "source": [
    "tensão_média = df['Tensão_max'].mean()\n",
    "print(f'Tensão máxima média = {tensão_média:.2f} V')\n",
    "\n",
    "corrente_média = df['Corrente_max'].mean()\n",
    "print(f'Corrente máxima média = {corrente_média:.2f} A')"
   ]
  }
 ],
 "metadata": {
  "kernelspec": {
   "display_name": "Python 3",
   "language": "python",
   "name": "python3"
  },
  "language_info": {
   "codemirror_mode": {
    "name": "ipython",
    "version": 3
   },
   "file_extension": ".py",
   "mimetype": "text/x-python",
   "name": "python",
   "nbconvert_exporter": "python",
   "pygments_lexer": "ipython3",
   "version": "3.11.3"
  },
  "orig_nbformat": 4
 },
 "nbformat": 4,
 "nbformat_minor": 2
}
